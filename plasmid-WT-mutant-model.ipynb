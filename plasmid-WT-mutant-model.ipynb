{
 "cells": [
  {
   "cell_type": "markdown",
   "metadata": {},
   "source": [
    "# Cell population simulation: wild type has growth advantage over mutant\n",
    "\n",
    "Summary of code:\n",
    "1) Define cell object to record \n",
    "\n",
    "    - self index\n",
    "    - index of parent\n",
    "    - birth time\n",
    "    - plasmid count at birth\n",
    "    - steady state plasmid count\n",
    "    - division time (dependent on existence of plasmids) <p>&nbsp;</p>\n",
    "    \n",
    "2) Simulate population starting with 1 cell at time 0 with a nonzero number of plasmids\n",
    "\n",
    "    - Calculate steady state plasmid number. **Assume that plasmid distribution reaches steady state before division**. \n",
    "        + If initial plasmid count is 0, steady state plasmid count is 0\n",
    "        + If initial plasmid count > 0, steady state plasmid count is sampled from the distribution Binom([max plasmid number n], 0.5)\n",
    "            *Question: This means that a cell can lose plasmids entirely - should I choose a different distribution? <p>&nbsp;</p>\n",
    "        \n",
    "    - Partition plasmids to two daughter cells.\n",
    "        + Number of plasmids in daughter 1: sample from Binom([steady state plasmid number], 0.5)\n",
    "        + Number of plasmids in daughter 2: [steady state plasmid number]-[daughter 1 plasmid number] <p>&nbsp;</p>\n",
    "    \n",
    "    - Create two new daughter cells.\n",
    "        + Birth times are the current cell's division time\n",
    "        + Division time is [birth time] + a_m if they have 0 plasmids, and [birth time] + a_w if they have more than 0 plasmids <p>&nbsp;</p>\n",
    "\n",
    "    - Remove current cell from queue of cells to process; add daughter cells. Sort the queue by division time so that the next cell to divide is processed in the next loop <p>&nbsp;</p>\n",
    "\n",
    "3) I store all cells that have already divided in a list called \"cells\", and I store all cells in the queue, aka the currently alive population, in a list called \"Q\". \n",
    "    \n",
    "\n"
   ]
  },
  {
   "cell_type": "code",
   "execution_count": 1,
   "metadata": {},
   "outputs": [],
   "source": [
    "import numpy as np\n",
    "import random as rand\n",
    "import matplotlib.pyplot as plt"
   ]
  },
  {
   "cell_type": "code",
   "execution_count": 2,
   "metadata": {},
   "outputs": [],
   "source": [
    "class cell:\n",
    "    def __init__(self,index,parent,birth,init_plasmid,tau):\n",
    "        '''Initializes cell attributes\n",
    "        param:: index: cell index\n",
    "        param:: parent: index of parent cell\n",
    "        param:: birth: birth time\n",
    "        param:: init_plasmid: plasmids partitioned to cell at birth\n",
    "        param:: tau: growth rate\n",
    "        return:: None\n",
    "        '''\n",
    "        self.index=index\n",
    "        self.parent = parent\n",
    "        self.birth = birth\n",
    "        self.init_plasmid = init_plasmid\n",
    "        self.ss_plasmid = 100 #placeholder number; will calculate steady state plasmid number later\n",
    "        self.div = birth+tau"
   ]
  },
  {
   "cell_type": "code",
   "execution_count": 3,
   "metadata": {},
   "outputs": [],
   "source": [
    "def simulation(Nmax, a_w, a_m, n, p):\n",
    "    \n",
    "    init_plasmid=1 #initial plasmid number of first cell. Arbitrary- just can't be 0\n",
    "    c= cell(0,[],0,init_plasmid,a_w)   #index,parent,birth,initialplasmid,tau\n",
    "    Q=[c] #queue of cells that have not divided yet (currently alive cells)\n",
    "    cells=[] #list of cells that have divided already\n",
    "    N=0 #index of initial cell c\n",
    "\n",
    "    while len(cells)<Nmax:\n",
    "        current=Q[0]\n",
    "\n",
    "        #Calculate steady state plasmid number\n",
    "        if current.init_plasmid==0:\n",
    "            ss_plasmid_num=0\n",
    "        else:\n",
    "            ss_plasmid_num=np.random.binomial(n,p,size=None)\n",
    "        current.ss_plasmid=ss_plasmid_num\n",
    "\n",
    "        #Partition plasmids between two daughter cells\n",
    "        d1_plasmids=np.random.binomial(ss_plasmid_num,p,size=None)\n",
    "        d2_plasmids=ss_plasmid_num-d1_plasmids\n",
    "\n",
    "        #Create two new daughter cells\n",
    "        if d1_plasmids==0:\n",
    "            daughter1=cell(N+1, current.index, current.div, d1_plasmids, a_m) #index,parentindex,birth,initialplasmids,tau\n",
    "        else:\n",
    "            daughter1=cell(N+1, current.index, current.div, d1_plasmids, a_w) #index,parentindex,birth,initialplasmids,tau\n",
    "        if d2_plasmids==0:\n",
    "            daughter2=cell(N+2, current.index, current.div, d2_plasmids, a_m) #index,parentindex,birth,initialplasmids,tau\n",
    "        else:\n",
    "            daughter2=cell(N+2, current.index, current.div, d2_plasmids, a_w) #index,parentindex,birth,initialplasmids,tau\n",
    "    \n",
    "        #Add current cell to vector 'cells'\n",
    "        cells.extend([current])\n",
    "    \n",
    "        #####To keep cell population at a fixed number by removing one cell after each division\n",
    "        ##### once the population reaches a certain size, include this section:\n",
    "        keep=1000\n",
    "        if len(Q)>=keep:\n",
    "            rem_cells = rand.sample(Q[1:],1)  #cells to be removed (does not include current or daughters)  \n",
    "            new_Q = [x for x in Q if x not in rem_cells]\n",
    "            Q = new_Q.copy()\n",
    "        \n",
    "        ########\n",
    "\n",
    "\n",
    "        #Update index for next time\n",
    "        N+=2\n",
    "\n",
    "        #Update Q for next time - remove current cell, add daughter cells, sort by age so Q[0] is youngest\n",
    "        Q.remove(current)\n",
    "        Q.extend([daughter1,daughter2])\n",
    "        Q=sorted(Q,key=lambda x: x.div, reverse=False)\n",
    "    return Q, cells"
   ]
  },
  {
   "cell_type": "code",
   "execution_count": 4,
   "metadata": {},
   "outputs": [],
   "source": [
    "Nmax=5000 #number of cells processed by simulation\n",
    "a_w=1 #wild type mean lifetime (note: the population with the shorter lifetime has the advantage)\n",
    "a_m=2 #0 plasmid mean lifetime\n",
    "n=20 #max number of plasmids\n",
    "p=.5 #probability of success in binomial distribution; used to calculate steady state plasmid num and also \n",
    "     #daughter plasmid partitioning\n"
   ]
  },
  {
   "cell_type": "code",
   "execution_count": 5,
   "metadata": {},
   "outputs": [
    {
     "data": {
      "text/plain": [
       "(array([  7.,  18.,  61., 130., 215., 201., 159., 121.,  47.,  25.,  14.,\n",
       "          2.,   0.,   0.,   0.,   0.,   0.,   0.,   0.,   0.]),\n",
       " array([-0.5,  0.5,  1.5,  2.5,  3.5,  4.5,  5.5,  6.5,  7.5,  8.5,  9.5,\n",
       "        10.5, 11.5, 12.5, 13.5, 14.5, 15.5, 16.5, 17.5, 18.5, 19.5]),\n",
       " <BarContainer object of 20 artists>)"
      ]
     },
     "execution_count": 5,
     "metadata": {},
     "output_type": "execute_result"
    },
    {
     "data": {
      "image/png": "[encoded data removed]",
      "text/plain": [
       "<Figure size 640x480 with 1 Axes>"
      ]
     },
     "metadata": {},
     "output_type": "display_data"
    }
   ],
   "source": [
    "Q, cells = simulation(Nmax, a_w, a_m, n, p)\n",
    "Q_init=[]\n",
    "for i in Q:\n",
    "    Q_init.extend([i.init_plasmid])\n",
    "plt.hist(Q_init,bins=n, range=[-.5,19.5])"
   ]
  }
 ],
 "metadata": {
  "kernelspec": {
   "display_name": "Python 3.10.8 64-bit",
   "language": "python",
   "name": "python3"
  },
  "language_info": {
   "codemirror_mode": {
    "name": "ipython",
    "version": 3
   },
   "file_extension": ".py",
   "mimetype": "text/x-python",
   "name": "python",
   "nbconvert_exporter": "python",
   "pygments_lexer": "ipython3",
   "version": "3.10.8"
  },
  "orig_nbformat": 4,
  "vscode": {
   "interpreter": {
    "hash": "b0fa6594d8f4cbf19f97940f81e996739fb7646882a419484c72d19e05852a7e"
   }
  }
 },
 "nbformat": 4,
 "nbformat_minor": 2
}
